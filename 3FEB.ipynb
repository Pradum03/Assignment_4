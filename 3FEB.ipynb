{
 "cells": [
  {
   "cell_type": "markdown",
   "id": "c0195a4e-b631-4abf-aab3-8a09aa349198",
   "metadata": {},
   "source": [
    "ASSIGNMENT:4\n",
    "\n",
    "1. The def keyword is used to create a function in Python.\n",
    "\n",
    "The basic syntax to define a function is:\n",
    "def function_name(arguments):\n",
    "    # Function body\n",
    "    # Statements to be executed\n",
    "    return value\n"
   ]
  },
  {
   "cell_type": "code",
   "execution_count": 2,
   "id": "334b4fa6-8b05-4365-bf9d-7e3e36f7938f",
   "metadata": {},
   "outputs": [],
   "source": [
    "def odd_numbers():\n",
    "    odds = []\n",
    "    for i in range(1, 26):\n",
    "        if i % 2 != 0:\n",
    "            odds.append(i)\n",
    "    return odds\n",
    "    "
   ]
  },
  {
   "cell_type": "markdown",
   "id": "02c612d0-b522-4934-a910-9905487253eb",
   "metadata": {},
   "source": [
    "2. In Python, *args and **kwargs are used to pass a variable number of arguments to a function.\n",
    "\n",
    "The *args parameter allows a function to accept any number of positional arguments. It collects all the arguments passed to the function as a tuple.\n",
    "\n",
    "The **kwargs parameter allows a function to accept any number of keyword arguments. It collects all the keyword arguments passed to the function as a dictionary."
   ]
  },
  {
   "cell_type": "code",
   "execution_count": 1,
   "id": "1e44bf1d-ac80-4f76-bf4f-9943d9b5d0be",
   "metadata": {},
   "outputs": [
    {
     "name": "stdout",
     "output_type": "stream",
     "text": [
      "24\n",
      "700\n"
     ]
    }
   ],
   "source": [
    "def multiply_numbers(*args):\n",
    "    product = 1\n",
    "    for number in args:\n",
    "        product *= number\n",
    "    return product\n",
    "\n",
    "print(multiply_numbers(2, 3, 4)) # Output: 24\n",
    "print(multiply_numbers(5, 10, 2, 7)) # Output: 700\n"
   ]
  },
  {
   "cell_type": "code",
   "execution_count": 3,
   "id": "061e232c-fe34-4289-a2e7-1582e7e9ee57",
   "metadata": {},
   "outputs": [
    {
     "name": "stdout",
     "output_type": "stream",
     "text": [
      "Contact Information:\n",
      "Name: John Doe\n",
      "Phone: 555-555-1234\n",
      "Email: johndoe@example.com\n"
     ]
    }
   ],
   "source": [
    "def print_contact_info(**kwargs):\n",
    "    print(\"Contact Information:\")\n",
    "    for key, value in kwargs.items():\n",
    "        print(f\"{key.capitalize()}: {value}\")\n",
    "        \n",
    "print_contact_info(name=\"John Doe\", phone=\"555-555-1234\", email=\"johndoe@example.com\")\n"
   ]
  },
  {
   "cell_type": "markdown",
   "id": "6a997e41-4dbc-4ae6-9589-4641faae2375",
   "metadata": {},
   "source": [
    "3. In Python, an iterator is an object that allows iteration over a collection of elements one at a time. It provides a way to access the elements of a collection without exposing its underlying representation.\n",
    "\n",
    "An iterator in Python must implement two methods:\n",
    "\n",
    "__iter__() method: This method is used to initialize the iterator object and returns the iterator object itself.\n",
    "\n",
    "__next__() method: This method is used to iterate over the elements of the collection one by one and raises a StopIteration exception when there are no more elements to iterate over.\n"
   ]
  },
  {
   "cell_type": "code",
   "execution_count": 1,
   "id": "35df55c1-6fa5-465d-a065-3f59c8a5ac04",
   "metadata": {},
   "outputs": [
    {
     "name": "stdout",
     "output_type": "stream",
     "text": [
      "2\n",
      "4\n",
      "6\n",
      "8\n",
      "10\n"
     ]
    }
   ],
   "source": [
    "# Create an iterator object for the list\n",
    "my_list = [2, 4, 6, 8, 10, 12, 14, 16, 18, 20]\n",
    "my_iter = iter(my_list)\n",
    "\n",
    "# Iterate through the iterator object and print the first five elements\n",
    "for i in range(5):\n",
    "    print(next(my_iter))\n"
   ]
  },
  {
   "cell_type": "markdown",
   "id": "304f2348-63ce-4dbc-8b50-1402a258d3cf",
   "metadata": {},
   "source": [
    "4.  generator function in Python is a special type of function that returns a generator object, which can be used to iterate over a series of values. Generator functions are similar to regular functions, but instead of using the return keyword to return a value and terminate the function, they use the yield keyword to yield a value and suspend the function's execution state. When the function is called again, it resumes execution from where it left off, allowing it to generate a series of values on the fly.\n",
    "\n",
    "The yield keyword is used to yield a value from the generator function and suspend its execution state. When the generator function is called again, it resumes execution from where it left off, continuing to generate values until it reaches the end of the function or encounters a return statement.\n",
    "\n",
    "Here's an example of a generator function that generates the first n numbers in the Fibonacci sequence:"
   ]
  },
  {
   "cell_type": "code",
   "execution_count": 3,
   "id": "8baaf170-b71f-4b98-b0ad-761527f9451b",
   "metadata": {},
   "outputs": [
    {
     "name": "stdout",
     "output_type": "stream",
     "text": [
      "0\n",
      "1\n",
      "1\n",
      "2\n",
      "3\n",
      "5\n",
      "8\n",
      "13\n",
      "21\n",
      "34\n"
     ]
    }
   ],
   "source": [
    "def fibonacci(n):\n",
    "    a, b = 0, 1\n",
    "    for i in range(n):\n",
    "        yield a\n",
    "        a, b = b, a + b\n",
    "# Generate the first 10 numbers in the Fibonacci sequence\n",
    "fib = fibonacci(10)\n",
    "\n",
    "# Iterate over the generator object and print each number\n",
    "for num in fib:\n",
    "    print(num)\n"
   ]
  },
  {
   "cell_type": "code",
   "execution_count": null,
   "id": "91ce16a4-d883-4204-8956-e71e6d9345f8",
   "metadata": {},
   "outputs": [],
   "source": []
  }
 ],
 "metadata": {
  "kernelspec": {
   "display_name": "Python 3 (ipykernel)",
   "language": "python",
   "name": "python3"
  },
  "language_info": {
   "codemirror_mode": {
    "name": "ipython",
    "version": 3
   },
   "file_extension": ".py",
   "mimetype": "text/x-python",
   "name": "python",
   "nbconvert_exporter": "python",
   "pygments_lexer": "ipython3",
   "version": "3.10.8"
  }
 },
 "nbformat": 4,
 "nbformat_minor": 5
}
